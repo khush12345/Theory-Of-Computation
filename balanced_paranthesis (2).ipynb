{
 "cells": [
  {
   "cell_type": "markdown",
   "metadata": {},
   "source": [
    "program to check balanced paranthesis using Stack:"
   ]
  },
  {
   "cell_type": "code",
   "execution_count": 4,
   "metadata": {},
   "outputs": [
    {
     "name": "stdout",
     "output_type": "stream",
     "text": [
      "Enter the expression to be checked:\n"
     ]
    },
    {
     "name": "stdin",
     "output_type": "stream",
     "text": [
      " ((())))\n"
     ]
    },
    {
     "name": "stdout",
     "output_type": "stream",
     "text": [
      "((())))\n",
      "False\n"
     ]
    }
   ],
   "source": [
    "class Stack:\n",
    "    def __init__(self):\n",
    "        self.a=[]\n",
    "    def is_empty(self):\n",
    "        return len(self.a)==0\n",
    "    def push(self,item):\n",
    "        self.a.append(item)\n",
    "    def pop(self):\n",
    "        return self.a.pop()\n",
    "s=Stack()\n",
    "print(\"Enter the expression to be checked:\")\n",
    "exp=input()\n",
    "print(exp)\n",
    "for c in exp:\n",
    "    if c=='(':\n",
    "        s.push('(')\n",
    "    elif c==')':\n",
    "        if s.is_empty():\n",
    "            is_balanced = False\n",
    "            break\n",
    "        s.pop()\n",
    "else:\n",
    "    if s.is_empty():\n",
    "        is_balanced = True\n",
    "    else:\n",
    "        is_balanced = False\n",
    "if is_balanced:\n",
    "    print(True)\n",
    "else:\n",
    "    print(False)"
   ]
  },
  {
   "cell_type": "code",
   "execution_count": 5,
   "metadata": {},
   "outputs": [
    {
     "name": "stdout",
     "output_type": "stream",
     "text": [
      "Enter the expression to be checked:\n"
     ]
    },
    {
     "name": "stdin",
     "output_type": "stream",
     "text": [
      " ((()))\n"
     ]
    },
    {
     "name": "stdout",
     "output_type": "stream",
     "text": [
      "((()))\n",
      "True\n"
     ]
    }
   ],
   "source": [
    "class Stack:\n",
    "    def __init__(self):\n",
    "        self.a=[]\n",
    "    def is_empty(self):\n",
    "        return len(self.a)==0\n",
    "    def push(self,item):\n",
    "        self.a.append(item)\n",
    "    def pop(self):\n",
    "        return self.a.pop()\n",
    "s=Stack()\n",
    "print(\"Enter the expression to be checked:\")\n",
    "exp=input()\n",
    "print(exp)\n",
    "for c in exp:\n",
    "    if c=='(':\n",
    "        s.push('(')\n",
    "    elif c==')':\n",
    "        if s.is_empty():\n",
    "            is_balanced = False\n",
    "            break\n",
    "        s.pop()\n",
    "else:\n",
    "    if s.is_empty():\n",
    "        is_balanced = True\n",
    "    else:\n",
    "        is_balanced = False\n",
    "if is_balanced:\n",
    "    print(True)\n",
    "else:\n",
    "    print(False)"
   ]
  },
  {
   "cell_type": "code",
   "execution_count": 6,
   "metadata": {},
   "outputs": [
    {
     "name": "stdout",
     "output_type": "stream",
     "text": [
      "Enter the expression to be checked:\n"
     ]
    },
    {
     "name": "stdin",
     "output_type": "stream",
     "text": [
      " ))))((((\n"
     ]
    },
    {
     "name": "stdout",
     "output_type": "stream",
     "text": [
      "))))((((\n",
      "False\n"
     ]
    }
   ],
   "source": [
    "class Stack:\n",
    "    def __init__(self):\n",
    "        self.a=[]\n",
    "    def is_empty(self):\n",
    "        return len(self.a)==0\n",
    "    def push(self,item):\n",
    "        self.a.append(item)\n",
    "    def pop(self):\n",
    "        return self.a.pop()\n",
    "s=Stack()\n",
    "print(\"Enter the expression to be checked:\")\n",
    "exp=input()\n",
    "print(exp)\n",
    "for c in exp:\n",
    "    if c=='(':\n",
    "        s.push('(')\n",
    "    elif c==')':\n",
    "        if s.is_empty():\n",
    "            is_balanced = False\n",
    "            break\n",
    "        s.pop()\n",
    "else:\n",
    "    if s.is_empty():\n",
    "        is_balanced = True\n",
    "    else:\n",
    "        is_balanced = False\n",
    "if is_balanced:\n",
    "    print(True)\n",
    "else:\n",
    "    print(False)"
   ]
  },
  {
   "cell_type": "code",
   "execution_count": null,
   "metadata": {},
   "outputs": [],
   "source": []
  }
 ],
 "metadata": {
  "kernelspec": {
   "display_name": "Python 3",
   "language": "python",
   "name": "python3"
  },
  "language_info": {
   "codemirror_mode": {
    "name": "ipython",
    "version": 3
   },
   "file_extension": ".py",
   "mimetype": "text/x-python",
   "name": "python",
   "nbconvert_exporter": "python",
   "pygments_lexer": "ipython3",
   "version": "3.7.3"
  }
 },
 "nbformat": 4,
 "nbformat_minor": 4
}
