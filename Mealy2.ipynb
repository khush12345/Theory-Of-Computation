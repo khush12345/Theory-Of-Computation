{
 "cells": [
  {
   "cell_type": "markdown",
   "metadata": {},
   "source": [
    "Program to construct Mealy Machine to find 2's complement of a number."
   ]
  },
  {
   "cell_type": "code",
   "execution_count": 30,
   "metadata": {},
   "outputs": [],
   "source": [
    "mealy={\n",
    "    'q0':{'0':{'st':'q0','op':'0'},'1':{'st':'q1','op':'1'}},\n",
    "    'q1':{'0':{'st':'q1','op':'1'},'1':{'st':'q1','op':'0'}}\n",
    "}\n",
    "def fun(s):\n",
    "    initial_state='q0'\n",
    "    cs='q0'\n",
    "    ans=''\n",
    "    for i in s[::-1]:\n",
    "        co=mealy[cs][i]['op']\n",
    "        cs=mealy[cs][i]['st']\n",
    "        ans=ans+co\n",
    "    print(ans[::-1])"
   ]
  },
  {
   "cell_type": "code",
   "execution_count": 31,
   "metadata": {},
   "outputs": [
    {
     "name": "stdout",
     "output_type": "stream",
     "text": [
      "0101\n"
     ]
    }
   ],
   "source": [
    "fun('1011')"
   ]
  },
  {
   "cell_type": "code",
   "execution_count": 32,
   "metadata": {},
   "outputs": [
    {
     "name": "stdout",
     "output_type": "stream",
     "text": [
      "01010001000\n"
     ]
    }
   ],
   "source": [
    "fun('10101111000')"
   ]
  },
  {
   "cell_type": "code",
   "execution_count": 33,
   "metadata": {},
   "outputs": [
    {
     "name": "stdout",
     "output_type": "stream",
     "text": [
      "000001001000\n"
     ]
    }
   ],
   "source": [
    "fun('111110111000')"
   ]
  },
  {
   "cell_type": "code",
   "execution_count": null,
   "metadata": {},
   "outputs": [],
   "source": []
  }
 ],
 "metadata": {
  "kernelspec": {
   "display_name": "Python 3",
   "language": "python",
   "name": "python3"
  },
  "language_info": {
   "codemirror_mode": {
    "name": "ipython",
    "version": 3
   },
   "file_extension": ".py",
   "mimetype": "text/x-python",
   "name": "python",
   "nbconvert_exporter": "python",
   "pygments_lexer": "ipython3",
   "version": "3.7.3"
  }
 },
 "nbformat": 4,
 "nbformat_minor": 4
}
