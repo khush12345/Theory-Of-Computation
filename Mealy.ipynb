{
 "cells": [
  {
   "cell_type": "markdown",
   "metadata": {},
   "source": [
    "First way of implementing Mealy machine:"
   ]
  },
  {
   "cell_type": "code",
   "execution_count": 8,
   "metadata": {},
   "outputs": [
    {
     "name": "stdout",
     "output_type": "stream",
     "text": [
      "{'q0': {'0': {'st': 'q0', 'o/p': 'even'}, '1': {'st': 'q1', 'o/p': 'odd'}}, 'q1': {'0': {'st': 'q1', 'o/p': 'odd'}, '1': {'st': 'q0', 'o/p': 'even'}}}\n"
     ]
    }
   ],
   "source": [
    "mealy={\n",
    "    'q0':{'0':{'st':'q0','o/p':'even'},'1':{'st':'q1','o/p':'odd'}},\n",
    "    'q1':{'0':{'st':'q1','o/p':'odd'},'1':{'st':'q0','o/p':'even'}}\n",
    "}\n",
    "print(mealy)"
   ]
  },
  {
   "cell_type": "code",
   "execution_count": 10,
   "metadata": {},
   "outputs": [
    {
     "name": "stdout",
     "output_type": "stream",
     "text": [
      "q0\n",
      "even\n"
     ]
    }
   ],
   "source": [
    "print(mealy['q0']['0']['st'])\n",
    "print(mealy['q0']['0']['o/p'])"
   ]
  },
  {
   "cell_type": "code",
   "execution_count": 15,
   "metadata": {},
   "outputs": [],
   "source": [
    "mealy={\n",
    "    'q0':{'0':{'st':'q0','op':'even'},'1':{'st':'q1','op':'odd'}},\n",
    "    'q1':{'0':{'st':'q1','op':'odd'},'1':{'st':'q0','op':'even'}}\n",
    "}\n",
    "def fun(s):\n",
    "    initial_state='q0'\n",
    "    cs='q0'\n",
    "    \n",
    "    for i in s:\n",
    "        co=mealy[cs][i]['op']\n",
    "        cs=mealy[cs][i]['st']\n",
    "    print(co)"
   ]
  },
  {
   "cell_type": "markdown",
   "metadata": {},
   "source": [
    "test case 1:"
   ]
  },
  {
   "cell_type": "code",
   "execution_count": 17,
   "metadata": {},
   "outputs": [
    {
     "name": "stdout",
     "output_type": "stream",
     "text": [
      "odd\n"
     ]
    }
   ],
   "source": [
    "fun('1110')"
   ]
  },
  {
   "cell_type": "markdown",
   "metadata": {},
   "source": [
    "test case 2:"
   ]
  },
  {
   "cell_type": "code",
   "execution_count": 18,
   "metadata": {},
   "outputs": [
    {
     "name": "stdout",
     "output_type": "stream",
     "text": [
      "even\n"
     ]
    }
   ],
   "source": [
    "fun('11000')"
   ]
  },
  {
   "cell_type": "markdown",
   "metadata": {},
   "source": [
    "test case 3:"
   ]
  },
  {
   "cell_type": "code",
   "execution_count": 19,
   "metadata": {},
   "outputs": [
    {
     "name": "stdout",
     "output_type": "stream",
     "text": [
      "even\n"
     ]
    }
   ],
   "source": [
    "fun('000')"
   ]
  },
  {
   "cell_type": "code",
   "execution_count": null,
   "metadata": {},
   "outputs": [],
   "source": [
    "Second way to implement Mealy machine:"
   ]
  },
  {
   "cell_type": "code",
   "execution_count": 22,
   "metadata": {},
   "outputs": [
    {
     "name": "stdout",
     "output_type": "stream",
     "text": [
      "{'q0': {'0': ['q0', 'even'], '1': ['q1', 'odd']}, 'q1': {'0': ['q1', 'odd'], '1': ['q0', 'even']}}\n"
     ]
    }
   ],
   "source": [
    "mealy={\n",
    "    'q0':{'0':['q0','even'],'1':['q1','odd']},\n",
    "    'q1':{'0':['q1','odd'],'1':['q0','even']},\n",
    "}\n",
    "print(mealy)"
   ]
  },
  {
   "cell_type": "code",
   "execution_count": 23,
   "metadata": {},
   "outputs": [
    {
     "name": "stdout",
     "output_type": "stream",
     "text": [
      "['q0', 'even']\n"
     ]
    }
   ],
   "source": [
    "print(mealy['q0']['0'])"
   ]
  },
  {
   "cell_type": "code",
   "execution_count": 24,
   "metadata": {},
   "outputs": [],
   "source": [
    "mealy={\n",
    "    'q0':{'0':['q0','even'],'1':['q1','odd']},\n",
    "    'q1':{'0':['q1','odd'],'1':['q0','even']},\n",
    "}\n",
    "def fun(s):\n",
    "    initial_state='q0'\n",
    "    cs='q0'\n",
    "    \n",
    "    for i in s:\n",
    "        co=mealy[cs][i][1]\n",
    "        cs=mealy[cs][i][0]\n",
    "    print(co)"
   ]
  },
  {
   "cell_type": "markdown",
   "metadata": {},
   "source": [
    "test case 1:"
   ]
  },
  {
   "cell_type": "code",
   "execution_count": 25,
   "metadata": {},
   "outputs": [
    {
     "name": "stdout",
     "output_type": "stream",
     "text": [
      "even\n"
     ]
    }
   ],
   "source": [
    "fun('0011')"
   ]
  },
  {
   "cell_type": "markdown",
   "metadata": {},
   "source": [
    "tst case 2:"
   ]
  },
  {
   "cell_type": "code",
   "execution_count": 26,
   "metadata": {},
   "outputs": [
    {
     "name": "stdout",
     "output_type": "stream",
     "text": [
      "even\n"
     ]
    }
   ],
   "source": [
    "fun('0000')"
   ]
  },
  {
   "cell_type": "markdown",
   "metadata": {},
   "source": [
    "test case 3:"
   ]
  },
  {
   "cell_type": "code",
   "execution_count": 27,
   "metadata": {},
   "outputs": [
    {
     "name": "stdout",
     "output_type": "stream",
     "text": [
      "odd\n"
     ]
    }
   ],
   "source": [
    "fun('1000000')"
   ]
  },
  {
   "cell_type": "markdown",
   "metadata": {},
   "source": [
    "Third way to implement Mealy machine:"
   ]
  },
  {
   "cell_type": "code",
   "execution_count": 28,
   "metadata": {},
   "outputs": [
    {
     "name": "stdout",
     "output_type": "stream",
     "text": [
      "{'q0': {'0': ('q0', 'even'), '1': ('q1', 'odd')}, 'q1': {'0': ('q1', 'odd'), '1': ('q0', 'even')}}\n"
     ]
    }
   ],
   "source": [
    "mealy = {'q0':{'0':('q0','even'),'1':('q1','odd')},\n",
    "       'q1':{'0':('q1','odd'),'1':('q0','even')}\n",
    "      }\n",
    "print(mealy)\n"
   ]
  },
  {
   "cell_type": "code",
   "execution_count": 30,
   "metadata": {},
   "outputs": [
    {
     "name": "stdout",
     "output_type": "stream",
     "text": [
      "q1\n",
      "odd\n"
     ]
    }
   ],
   "source": [
    "print(mealy['q0']['1'][0])\n",
    "print(mealy['q0']['1'][1])"
   ]
  },
  {
   "cell_type": "code",
   "execution_count": 31,
   "metadata": {},
   "outputs": [],
   "source": [
    "mealy = {'q0':{'0':('q0','even'),'1':('q1','odd')},\n",
    "       'q1':{'0':('q1','odd'),'1':('q0','even')}\n",
    "      }\n",
    "def fun(s):\n",
    "    initial_state='q0'\n",
    "    cs='q0'\n",
    "    \n",
    "    for i in s:\n",
    "        co=mealy[cs][i][1]\n",
    "        cs=mealy[cs][i][0]\n",
    "    print(co)"
   ]
  },
  {
   "cell_type": "markdown",
   "metadata": {},
   "source": [
    "test case 1:"
   ]
  },
  {
   "cell_type": "code",
   "execution_count": 36,
   "metadata": {},
   "outputs": [
    {
     "name": "stdout",
     "output_type": "stream",
     "text": [
      "even\n"
     ]
    }
   ],
   "source": [
    "fun('1111')"
   ]
  },
  {
   "cell_type": "markdown",
   "metadata": {},
   "source": [
    "test case 2:"
   ]
  },
  {
   "cell_type": "code",
   "execution_count": 34,
   "metadata": {},
   "outputs": [
    {
     "name": "stdout",
     "output_type": "stream",
     "text": [
      "odd\n"
     ]
    }
   ],
   "source": [
    "fun('000001')"
   ]
  },
  {
   "cell_type": "code",
   "execution_count": null,
   "metadata": {},
   "outputs": [],
   "source": [
    "test case 3:"
   ]
  },
  {
   "cell_type": "code",
   "execution_count": 35,
   "metadata": {},
   "outputs": [
    {
     "name": "stdout",
     "output_type": "stream",
     "text": [
      "even\n"
     ]
    }
   ],
   "source": [
    "fun('110000')"
   ]
  }
 ],
 "metadata": {
  "kernelspec": {
   "display_name": "Python 3",
   "language": "python",
   "name": "python3"
  },
  "language_info": {
   "codemirror_mode": {
    "name": "ipython",
    "version": 3
   },
   "file_extension": ".py",
   "mimetype": "text/x-python",
   "name": "python",
   "nbconvert_exporter": "python",
   "pygments_lexer": "ipython3",
   "version": "3.7.3"
  }
 },
 "nbformat": 4,
 "nbformat_minor": 4
}
