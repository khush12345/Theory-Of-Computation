{
 "cells": [
  {
   "cell_type": "markdown",
   "metadata": {},
   "source": [
    "Program to implement Dequeue:"
   ]
  },
  {
   "cell_type": "code",
   "execution_count": null,
   "metadata": {},
   "outputs": [
    {
     "name": "stdin",
     "output_type": "stream",
     "text": [
      "Enter your choice: 0-exit 1-insert 2-delete 1\n",
      "Where you want to insert the element:1-at the beginning 2-at the end 1\n"
     ]
    },
    {
     "name": "stdout",
     "output_type": "stream",
     "text": [
      "1\n"
     ]
    },
    {
     "name": "stdin",
     "output_type": "stream",
     "text": [
      "Enter element to be inserted:  12\n"
     ]
    },
    {
     "name": "stdout",
     "output_type": "stream",
     "text": [
      "12\n",
      "['12']\n"
     ]
    },
    {
     "name": "stdin",
     "output_type": "stream",
     "text": [
      "Enter your choice: 0-exit 1-insert 2-delete 1\n",
      "Where you want to insert the element:1-at the beginning 2-at the end 1\n"
     ]
    },
    {
     "name": "stdout",
     "output_type": "stream",
     "text": [
      "1\n"
     ]
    },
    {
     "name": "stdin",
     "output_type": "stream",
     "text": [
      "Enter element to be inserted:  14\n"
     ]
    },
    {
     "name": "stdout",
     "output_type": "stream",
     "text": [
      "14\n",
      "['14', '12']\n"
     ]
    },
    {
     "name": "stdin",
     "output_type": "stream",
     "text": [
      "Enter your choice: 0-exit 1-insert 2-delete 1\n",
      "Where you want to insert the element:1-at the beginning 2-at the end 2\n"
     ]
    },
    {
     "name": "stdout",
     "output_type": "stream",
     "text": [
      "2\n"
     ]
    },
    {
     "name": "stdin",
     "output_type": "stream",
     "text": [
      "Enter element to be inserted:  17\n"
     ]
    },
    {
     "name": "stdout",
     "output_type": "stream",
     "text": [
      "17\n",
      "['14', '12', '17']\n"
     ]
    },
    {
     "name": "stdin",
     "output_type": "stream",
     "text": [
      "Enter your choice: 0-exit 1-insert 2-delete 1\n",
      "Where you want to insert the element:1-at the beginning 2-at the end 2\n"
     ]
    },
    {
     "name": "stdout",
     "output_type": "stream",
     "text": [
      "2\n"
     ]
    },
    {
     "name": "stdin",
     "output_type": "stream",
     "text": [
      "Enter element to be inserted:  18\n"
     ]
    },
    {
     "name": "stdout",
     "output_type": "stream",
     "text": [
      "18\n",
      "['14', '12', '17', '18']\n"
     ]
    },
    {
     "name": "stdin",
     "output_type": "stream",
     "text": [
      "Enter your choice: 0-exit 1-insert 2-delete 2\n",
      "Enter your choice:1-from the beginning 2-from the end 1\n"
     ]
    },
    {
     "name": "stdout",
     "output_type": "stream",
     "text": [
      "1\n",
      "['12', '17', '18']\n"
     ]
    },
    {
     "name": "stdin",
     "output_type": "stream",
     "text": [
      "Enter your choice: 0-exit 1-insert 2-delete 2\n",
      "Enter your choice:1-from the beginning 2-from the end 2\n"
     ]
    },
    {
     "name": "stdout",
     "output_type": "stream",
     "text": [
      "2\n",
      "['12', '17']\n"
     ]
    }
   ],
   "source": [
    "class Dequeue:\n",
    "    def __init__(self):\n",
    "        self.a=[]\n",
    "    def enqueue(self,i,ch):\n",
    "        if (ch==1):\n",
    "            self.a.insert(0,i)\n",
    "            print(self.a)\n",
    "        else:\n",
    "            self.a.append(i)\n",
    "            print(self.a)\n",
    "    def delete(self,ch):\n",
    "        if (len(self.a)==0):\n",
    "            print(\"queue is empty\")\n",
    "        elif (ch==1):\n",
    "            self.a.pop(0)\n",
    "            print(self.a)\n",
    "        else:\n",
    "            self.a.pop(-1)\n",
    "            print(self.a)\n",
    "q=Dequeue()\n",
    "ch=int(input(\"Enter your choice: 0-exit 1-insert 2-delete\"))\n",
    "while ch!=0:\n",
    "    if (ch==1):\n",
    "        ch1=int(input(\"Where you want to insert the element:1-at the beginning 2-at the end\"))\n",
    "        print(ch1)\n",
    "        j=input(\"Enter element to be inserted: \")\n",
    "        print(j)\n",
    "        q.enqueue(j,ch1)\n",
    "    else:\n",
    "        ch2=int(input(\"Enter your choice:1-from the beginning 2-from the end\"))\n",
    "        print(ch2)\n",
    "        q.delete(ch2)\n",
    "    ch=int(input(\"Enter your choice: 0-exit 1-insert 2-delete\"))"
   ]
  },
  {
   "cell_type": "code",
   "execution_count": null,
   "metadata": {},
   "outputs": [],
   "source": []
  }
 ],
 "metadata": {
  "kernelspec": {
   "display_name": "Python 3",
   "language": "python",
   "name": "python3"
  },
  "language_info": {
   "codemirror_mode": {
    "name": "ipython",
    "version": 3
   },
   "file_extension": ".py",
   "mimetype": "text/x-python",
   "name": "python",
   "nbconvert_exporter": "python",
   "pygments_lexer": "ipython3",
   "version": "3.7.3"
  }
 },
 "nbformat": 4,
 "nbformat_minor": 4
}
