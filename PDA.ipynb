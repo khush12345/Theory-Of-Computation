{
 "cells": [
  {
   "cell_type": "markdown",
   "metadata": {},
   "source": [
    "Program to implement PDA for the language a^nb^n where n>=1"
   ]
  },
  {
   "cell_type": "code",
   "execution_count": 3,
   "metadata": {},
   "outputs": [
    {
     "name": "stdin",
     "output_type": "stream",
     "text": [
      "Enter the string to be checked aaaabbbb\n"
     ]
    },
    {
     "name": "stdout",
     "output_type": "stream",
     "text": [
      "Current state is : q1\n",
      "Current state is : q1\n",
      "Current state is : q1\n",
      "Current state is : q1\n",
      "Current state is : q2\n",
      "Current state is : q2\n",
      "Current state is : q2\n",
      "Current state is : q2\n",
      "String Accepted\n"
     ]
    }
   ],
   "source": [
    "#testcase:01\n",
    "pda=dict()\n",
    "\n",
    "pda[('q0','a')]='q1'\n",
    "pda[('q0','b')]='q4'\n",
    "pda[('q0','z')]='q4'\n",
    "pda[('q1','a')]='q1'\n",
    "pda[('q1','b')]='q2'\n",
    "pda[('q2','a')]='q4'\n",
    "pda[('q2','b')]='q2'\n",
    "pda[('q2','z')]='q3'\n",
    "pda[('q4','a')]='q4'\n",
    "pda[('q4','b')]='q4'\n",
    "pda[('q4','z')]='q4'\n",
    "\n",
    "class stack:\n",
    "    def __init__ (self,pda):\n",
    "        self.items=[]\n",
    "    def push(self,item):\n",
    "        self.items.append(item)\n",
    "    def pop(self):\n",
    "        return self.items.pop()\n",
    "    def isempty(self):\n",
    "        return self.items==[]\n",
    "    def size(self):\n",
    "        return len(self.items)\n",
    "s=stack(pda)\n",
    "x=input(\"Enter the string to be checked\")\n",
    "s.push('z')\n",
    "cs='q0'\n",
    "fs='q3'\n",
    "for i in x:\n",
    "    top=s.pop()\n",
    "    s.push(top)\n",
    "    cs=pda[cs,i]\n",
    "    print(\"Current state is :\",cs)\n",
    "    if top=='z' and i=='a':\n",
    "        s.push(i)\n",
    "    elif top=='a' and i=='a':\n",
    "        s.push(i)\n",
    "    elif top=='a' and i=='b':\n",
    "        s.pop()\n",
    "    elif top!='a' and i=='b':\n",
    "        s.push(i)\n",
    "y=s.pop()\n",
    "cs=pda[cs,y]\n",
    "if cs==fs:\n",
    "    print(\"String Accepted\")\n",
    "else:\n",
    "    print(\"String Not Accepted\")\n",
    "        \n",
    "\n",
    "    \n",
    "\n",
    "        \n"
   ]
  },
  {
   "cell_type": "markdown",
   "metadata": {},
   "source": [
    "test case:02"
   ]
  },
  {
   "cell_type": "code",
   "execution_count": 4,
   "metadata": {},
   "outputs": [
    {
     "name": "stdin",
     "output_type": "stream",
     "text": [
      "Enter the string to be checked aabbb\n"
     ]
    },
    {
     "name": "stdout",
     "output_type": "stream",
     "text": [
      "Current state is : q1\n",
      "Current state is : q1\n",
      "Current state is : q2\n",
      "Current state is : q2\n",
      "Current state is : q2\n",
      "String Not Accepted\n"
     ]
    }
   ],
   "source": [
    "pda=dict()\n",
    "\n",
    "pda[('q0','a')]='q1'\n",
    "pda[('q0','b')]='q4'\n",
    "pda[('q0','z')]='q4'\n",
    "pda[('q1','a')]='q1'\n",
    "pda[('q1','b')]='q2'\n",
    "pda[('q2','a')]='q4'\n",
    "pda[('q2','b')]='q2'\n",
    "pda[('q2','z')]='q3'\n",
    "pda[('q4','a')]='q4'\n",
    "pda[('q4','b')]='q4'\n",
    "pda[('q4','z')]='q4'\n",
    "\n",
    "class stack:\n",
    "    def __init__ (self,pda):\n",
    "        self.items=[]\n",
    "    def push(self,item):\n",
    "        self.items.append(item)\n",
    "    def pop(self):\n",
    "        return self.items.pop()\n",
    "    def isempty(self):\n",
    "        return self.items==[]\n",
    "    def size(self):\n",
    "        return len(self.items)\n",
    "s=stack(pda)\n",
    "x=input(\"Enter the string to be checked\")\n",
    "s.push('z')\n",
    "cs='q0'\n",
    "fs='q3'\n",
    "for i in x:\n",
    "    top=s.pop()\n",
    "    s.push(top)\n",
    "    cs=pda[cs,i]\n",
    "    print(\"Current state is :\",cs)\n",
    "    if top=='z' and i=='a':\n",
    "        s.push(i)\n",
    "    elif top=='a' and i=='a':\n",
    "        s.push(i)\n",
    "    elif top=='a' and i=='b':\n",
    "        s.pop()\n",
    "    elif top!='a' and i=='b':\n",
    "        s.push(i)\n",
    "y=s.pop()\n",
    "cs=pda[cs,y]\n",
    "if cs==fs:\n",
    "    print(\"String Accepted\")\n",
    "else:\n",
    "    print(\"String Not Accepted\")"
   ]
  },
  {
   "cell_type": "markdown",
   "metadata": {},
   "source": [
    "test case:03"
   ]
  },
  {
   "cell_type": "code",
   "execution_count": 5,
   "metadata": {},
   "outputs": [
    {
     "name": "stdin",
     "output_type": "stream",
     "text": [
      "Enter the string to be checked \n"
     ]
    },
    {
     "name": "stdout",
     "output_type": "stream",
     "text": [
      "String Not Accepted\n"
     ]
    }
   ],
   "source": [
    "pda=dict()\n",
    "\n",
    "pda[('q0','a')]='q1'\n",
    "pda[('q0','b')]='q4'\n",
    "pda[('q0','z')]='q4'\n",
    "pda[('q1','a')]='q1'\n",
    "pda[('q1','b')]='q2'\n",
    "pda[('q2','a')]='q4'\n",
    "pda[('q2','b')]='q2'\n",
    "pda[('q2','z')]='q3'\n",
    "pda[('q4','a')]='q4'\n",
    "pda[('q4','b')]='q4'\n",
    "pda[('q4','z')]='q4'\n",
    "\n",
    "class stack:\n",
    "    def __init__ (self,pda):\n",
    "        self.items=[]\n",
    "    def push(self,item):\n",
    "        self.items.append(item)\n",
    "    def pop(self):\n",
    "        return self.items.pop()\n",
    "    def isempty(self):\n",
    "        return self.items==[]\n",
    "    def size(self):\n",
    "        return len(self.items)\n",
    "s=stack(pda)\n",
    "x=input(\"Enter the string to be checked\")\n",
    "s.push('z')\n",
    "cs='q0'\n",
    "fs='q3'\n",
    "for i in x:\n",
    "    top=s.pop()\n",
    "    s.push(top)\n",
    "    cs=pda[cs,i]\n",
    "    print(\"Current state is :\",cs)\n",
    "    if top=='z' and i=='a':\n",
    "        s.push(i)\n",
    "    elif top=='a' and i=='a':\n",
    "        s.push(i)\n",
    "    elif top=='a' and i=='b':\n",
    "        s.pop()\n",
    "    elif top!='a' and i=='b':\n",
    "        s.push(i)\n",
    "y=s.pop()\n",
    "cs=pda[cs,y]\n",
    "if cs==fs:\n",
    "    print(\"String Accepted\")\n",
    "else:\n",
    "    print(\"String Not Accepted\")"
   ]
  },
  {
   "cell_type": "markdown",
   "metadata": {},
   "source": [
    "Program to implement PDA which accepts the language a^nb^2n where n>=1"
   ]
  },
  {
   "cell_type": "code",
   "execution_count": 4,
   "metadata": {},
   "outputs": [
    {
     "name": "stdin",
     "output_type": "stream",
     "text": [
      "Enter the string to be checked aabbbb\n"
     ]
    },
    {
     "name": "stdout",
     "output_type": "stream",
     "text": [
      "Current state is : q1\n",
      "Current state is : q1\n",
      "Current state is : q2\n",
      "Current state is : q3\n",
      "Current state is : q2\n",
      "Current state is : q3\n",
      "String Accepted\n"
     ]
    }
   ],
   "source": [
    "#test case:01\n",
    "pda=dict()\n",
    "\n",
    "pda[('q0','a')]='q1'\n",
    "pda[('q0','b')]='q5'\n",
    "pda[('q0','z')]='q5'\n",
    "pda[('q1','a')]='q1'\n",
    "pda[('q1','b')]='q2'\n",
    "pda[('q2','a')]='q3'\n",
    "pda[('q2','b')]='q3'\n",
    "pda[('q2','z')]='q5'\n",
    "pda[('q3','a')]='q5'\n",
    "pda[('q3','b')]='q2'\n",
    "pda[('q3','z')]='q4'\n",
    "pda[('q5','a')]='q5'\n",
    "pda[('q5','b')]='q5'\n",
    "pda[('q5','z')]='q5'\n",
    "\n",
    "\n",
    "class stack:\n",
    "    def __init__ (self,pda):\n",
    "        self.items=[]\n",
    "    def push(self,item):\n",
    "        self.items.append(item)\n",
    "    def pop(self):\n",
    "        return self.items.pop()\n",
    "    def isempty(self):\n",
    "        return self.items==[]\n",
    "    def size(self):\n",
    "        return len(self.items)\n",
    "s=stack(pda)\n",
    "x=input(\"Enter the string to be checked\")\n",
    "s.push('z')\n",
    "cs='q0'\n",
    "fs='q4'\n",
    "for i in x:\n",
    "    top=s.pop()\n",
    "    s.push(top)\n",
    "    cs=pda[cs,i]\n",
    "    print(\"Current state is :\",cs)\n",
    "    if top=='z' and (i=='a' and cs=='q1'):\n",
    "        s.push(i)\n",
    "    elif top=='a' and (i=='a'and cs=='q1'):\n",
    "        s.push(i)\n",
    "    elif top=='a' and (i=='b'and cs=='q2'):\n",
    "        continue\n",
    "    elif top=='a' and (i=='b' and cs=='q3'):\n",
    "        s.pop()\n",
    "    elif top!='a' and i=='b':\n",
    "        s.push(i)\n",
    "    \n",
    "y=s.pop()\n",
    "cs=pda[cs,y]\n",
    "if cs==fs:\n",
    "    print(\"String Accepted\")\n",
    "else:\n",
    "    print(\"String Not Accepted\")"
   ]
  },
  {
   "cell_type": "markdown",
   "metadata": {},
   "source": [
    "test case:02"
   ]
  },
  {
   "cell_type": "code",
   "execution_count": 5,
   "metadata": {},
   "outputs": [
    {
     "name": "stdin",
     "output_type": "stream",
     "text": [
      "Enter the string to be checked aaabbbbb\n"
     ]
    },
    {
     "name": "stdout",
     "output_type": "stream",
     "text": [
      "Current state is : q1\n",
      "Current state is : q1\n",
      "Current state is : q1\n",
      "Current state is : q2\n",
      "Current state is : q3\n",
      "Current state is : q2\n",
      "Current state is : q3\n",
      "Current state is : q2\n",
      "String Not Accepted\n"
     ]
    }
   ],
   "source": [
    "pda=dict()\n",
    "\n",
    "pda[('q0','a')]='q1'\n",
    "pda[('q0','b')]='q5'\n",
    "pda[('q0','z')]='q5'\n",
    "pda[('q1','a')]='q1'\n",
    "pda[('q1','b')]='q2'\n",
    "pda[('q2','a')]='q3'\n",
    "pda[('q2','b')]='q3'\n",
    "pda[('q2','z')]='q5'\n",
    "pda[('q3','a')]='q5'\n",
    "pda[('q3','b')]='q2'\n",
    "pda[('q3','z')]='q4'\n",
    "pda[('q5','a')]='q5'\n",
    "pda[('q5','b')]='q5'\n",
    "pda[('q5','z')]='q5'\n",
    "\n",
    "\n",
    "class stack:\n",
    "    def __init__ (self,pda):\n",
    "        self.items=[]\n",
    "    def push(self,item):\n",
    "        self.items.append(item)\n",
    "    def pop(self):\n",
    "        return self.items.pop()\n",
    "    def isempty(self):\n",
    "        return self.items==[]\n",
    "    def size(self):\n",
    "        return len(self.items)\n",
    "s=stack(pda)\n",
    "x=input(\"Enter the string to be checked\")\n",
    "s.push('z')\n",
    "cs='q0'\n",
    "fs='q4'\n",
    "for i in x:\n",
    "    top=s.pop()\n",
    "    s.push(top)\n",
    "    cs=pda[cs,i]\n",
    "    print(\"Current state is :\",cs)\n",
    "    if top=='z' and (i=='a' and cs=='q1'):\n",
    "        s.push(i)\n",
    "    elif top=='a' and (i=='a'and cs=='q1'):\n",
    "        s.push(i)\n",
    "    elif top=='a' and (i=='b'and cs=='q2'):\n",
    "        continue\n",
    "    elif top=='a' and (i=='b' and cs=='q3'):\n",
    "        s.pop()\n",
    "    elif top!='a' and i=='b':\n",
    "        s.push(i)\n",
    "    \n",
    "y=s.pop()\n",
    "cs=pda[cs,y]\n",
    "if cs==fs:\n",
    "    print(\"String Accepted\")\n",
    "else:\n",
    "    print(\"String Not Accepted\")"
   ]
  },
  {
   "cell_type": "markdown",
   "metadata": {},
   "source": [
    "test case:03"
   ]
  },
  {
   "cell_type": "code",
   "execution_count": 6,
   "metadata": {},
   "outputs": [
    {
     "name": "stdin",
     "output_type": "stream",
     "text": [
      "Enter the string to be checked \n"
     ]
    },
    {
     "name": "stdout",
     "output_type": "stream",
     "text": [
      "String Not Accepted\n"
     ]
    }
   ],
   "source": [
    "pda=dict()\n",
    "\n",
    "pda[('q0','a')]='q1'\n",
    "pda[('q0','b')]='q5'\n",
    "pda[('q0','z')]='q5'\n",
    "pda[('q1','a')]='q1'\n",
    "pda[('q1','b')]='q2'\n",
    "pda[('q2','a')]='q3'\n",
    "pda[('q2','b')]='q3'\n",
    "pda[('q2','z')]='q5'\n",
    "pda[('q3','a')]='q5'\n",
    "pda[('q3','b')]='q2'\n",
    "pda[('q3','z')]='q4'\n",
    "pda[('q5','a')]='q5'\n",
    "pda[('q5','b')]='q5'\n",
    "pda[('q5','z')]='q5'\n",
    "\n",
    "\n",
    "class stack:\n",
    "    def __init__ (self,pda):\n",
    "        self.items=[]\n",
    "    def push(self,item):\n",
    "        self.items.append(item)\n",
    "    def pop(self):\n",
    "        return self.items.pop()\n",
    "    def isempty(self):\n",
    "        return self.items==[]\n",
    "    def size(self):\n",
    "        return len(self.items)\n",
    "s=stack(pda)\n",
    "x=input(\"Enter the string to be checked\")\n",
    "s.push('z')\n",
    "cs='q0'\n",
    "fs='q4'\n",
    "for i in x:\n",
    "    top=s.pop()\n",
    "    s.push(top)\n",
    "    cs=pda[cs,i]\n",
    "    print(\"Current state is :\",cs)\n",
    "    if top=='z' and (i=='a' and cs=='q1'):\n",
    "        s.push(i)\n",
    "    elif top=='a' and (i=='a'and cs=='q1'):\n",
    "        s.push(i)\n",
    "    elif top=='a' and (i=='b'and cs=='q2'):\n",
    "        continue\n",
    "    elif top=='a' and (i=='b' and cs=='q3'):\n",
    "        s.pop()\n",
    "    elif top!='a' and i=='b':\n",
    "        s.push(i)\n",
    "    \n",
    "y=s.pop()\n",
    "cs=pda[cs,y]\n",
    "if cs==fs:\n",
    "    print(\"String Accepted\")\n",
    "else:\n",
    "    print(\"String Not Accepted\")"
   ]
  }
 ],
 "metadata": {
  "kernelspec": {
   "display_name": "Python 3",
   "language": "python",
   "name": "python3"
  },
  "language_info": {
   "codemirror_mode": {
    "name": "ipython",
    "version": 3
   },
   "file_extension": ".py",
   "mimetype": "text/x-python",
   "name": "python",
   "nbconvert_exporter": "python",
   "pygments_lexer": "ipython3",
   "version": "3.7.3"
  }
 },
 "nbformat": 4,
 "nbformat_minor": 4
}
