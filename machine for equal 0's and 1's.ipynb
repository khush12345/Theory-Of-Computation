{
 "cells": [
  {
   "cell_type": "markdown",
   "metadata": {},
   "source": [
    "Program to implement DFA which accepts strings having equal number of 0's and 1's."
   ]
  },
  {
   "cell_type": "code",
   "execution_count": 1,
   "metadata": {},
   "outputs": [],
   "source": [
    "dfa={\n",
    "    'q0':{'0':'q1','1':'q3'},\n",
    "    'q1':{'0':'q2','1':'q0'},\n",
    "    'q2':{'0':'q3','1':'q1'},\n",
    "    'q3':{'0':'q0','1':'q2'}\n",
    "}\n",
    "def fun(s):\n",
    "    initial_state='q0'\n",
    "    final_state={'q0'}\n",
    "    cs=initial_state\n",
    "    for i in s:\n",
    "        cs=dfa[cs][i]\n",
    "    if cs in final_state:\n",
    "        print(\"Acceptable\")\n",
    "    else:\n",
    "        print(\"Unacceptable\")"
   ]
  },
  {
   "cell_type": "markdown",
   "metadata": {},
   "source": [
    "test case:1"
   ]
  },
  {
   "cell_type": "code",
   "execution_count": 2,
   "metadata": {},
   "outputs": [
    {
     "name": "stdout",
     "output_type": "stream",
     "text": [
      "Acceptable\n"
     ]
    }
   ],
   "source": [
    "fun('110001')"
   ]
  },
  {
   "cell_type": "markdown",
   "metadata": {},
   "source": [
    "test case:2"
   ]
  },
  {
   "cell_type": "code",
   "execution_count": 7,
   "metadata": {},
   "outputs": [
    {
     "name": "stdout",
     "output_type": "stream",
     "text": [
      "Acceptable\n"
     ]
    }
   ],
   "source": [
    "fun('')"
   ]
  },
  {
   "cell_type": "markdown",
   "metadata": {},
   "source": [
    "test case:3"
   ]
  },
  {
   "cell_type": "code",
   "execution_count": 4,
   "metadata": {},
   "outputs": [
    {
     "name": "stdout",
     "output_type": "stream",
     "text": [
      "Unacceptable\n"
     ]
    }
   ],
   "source": [
    "fun('1101010101')"
   ]
  },
  {
   "cell_type": "markdown",
   "metadata": {},
   "source": [
    "test case:4"
   ]
  },
  {
   "cell_type": "code",
   "execution_count": 5,
   "metadata": {},
   "outputs": [
    {
     "name": "stdout",
     "output_type": "stream",
     "text": [
      "Acceptable\n"
     ]
    }
   ],
   "source": [
    "fun('10111000')"
   ]
  },
  {
   "cell_type": "markdown",
   "metadata": {},
   "source": [
    "test case:5"
   ]
  },
  {
   "cell_type": "code",
   "execution_count": 6,
   "metadata": {},
   "outputs": [
    {
     "name": "stdout",
     "output_type": "stream",
     "text": [
      "Unacceptable\n"
     ]
    }
   ],
   "source": [
    "fun('110')"
   ]
  }
 ],
 "metadata": {
  "kernelspec": {
   "display_name": "Python 3",
   "language": "python",
   "name": "python3"
  },
  "language_info": {
   "codemirror_mode": {
    "name": "ipython",
    "version": 3
   },
   "file_extension": ".py",
   "mimetype": "text/x-python",
   "name": "python",
   "nbconvert_exporter": "python",
   "pygments_lexer": "ipython3",
   "version": "3.7.3"
  }
 },
 "nbformat": 4,
 "nbformat_minor": 4
}
