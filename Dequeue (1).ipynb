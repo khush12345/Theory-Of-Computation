{
 "cells": [
  {
   "cell_type": "markdown",
   "metadata": {},
   "source": [
    "Program to implement Dequeue:"
   ]
  },
  {
   "cell_type": "code",
   "execution_count": null,
   "metadata": {},
   "outputs": [
    {
     "name": "stdout",
     "output_type": "stream",
     "text": [
      "Enter your choice: 0-exit 1-insert 2-delete\n"
     ]
    },
    {
     "name": "stdin",
     "output_type": "stream",
     "text": [
      " 1\n"
     ]
    },
    {
     "name": "stdout",
     "output_type": "stream",
     "text": [
      "1\n",
      "Where you want to insert the element:1-at the beginning 2-at the end\n"
     ]
    },
    {
     "name": "stdin",
     "output_type": "stream",
     "text": [
      " 1\n"
     ]
    },
    {
     "name": "stdout",
     "output_type": "stream",
     "text": [
      "1\n",
      "Enter element to be inserted: \n"
     ]
    },
    {
     "name": "stdin",
     "output_type": "stream",
     "text": [
      " 12\n"
     ]
    },
    {
     "name": "stdout",
     "output_type": "stream",
     "text": [
      "12\n",
      "['12']\n",
      "Enter your choice: 0-exit 1-insert 2-delete\n"
     ]
    },
    {
     "name": "stdin",
     "output_type": "stream",
     "text": [
      " 1\n"
     ]
    },
    {
     "name": "stdout",
     "output_type": "stream",
     "text": [
      "1\n",
      "Where you want to insert the element:1-at the beginning 2-at the end\n"
     ]
    },
    {
     "name": "stdin",
     "output_type": "stream",
     "text": [
      " 1\n"
     ]
    },
    {
     "name": "stdout",
     "output_type": "stream",
     "text": [
      "1\n",
      "Enter element to be inserted: \n"
     ]
    },
    {
     "name": "stdin",
     "output_type": "stream",
     "text": [
      " 14\n"
     ]
    },
    {
     "name": "stdout",
     "output_type": "stream",
     "text": [
      "14\n",
      "['14', '12']\n",
      "Enter your choice: 0-exit 1-insert 2-delete\n"
     ]
    },
    {
     "name": "stdin",
     "output_type": "stream",
     "text": [
      " 1\n"
     ]
    },
    {
     "name": "stdout",
     "output_type": "stream",
     "text": [
      "1\n",
      "Where you want to insert the element:1-at the beginning 2-at the end\n"
     ]
    },
    {
     "name": "stdin",
     "output_type": "stream",
     "text": [
      " 2\n"
     ]
    },
    {
     "name": "stdout",
     "output_type": "stream",
     "text": [
      "1\n",
      "Enter element to be inserted: \n"
     ]
    },
    {
     "name": "stdin",
     "output_type": "stream",
     "text": [
      " 16\n"
     ]
    },
    {
     "name": "stdout",
     "output_type": "stream",
     "text": [
      "16\n",
      "['14', '12', '16']\n",
      "Enter your choice: 0-exit 1-insert 2-delete\n"
     ]
    },
    {
     "name": "stdin",
     "output_type": "stream",
     "text": [
      " 1\n"
     ]
    },
    {
     "name": "stdout",
     "output_type": "stream",
     "text": [
      "1\n",
      "Where you want to insert the element:1-at the beginning 2-at the end\n"
     ]
    },
    {
     "name": "stdin",
     "output_type": "stream",
     "text": [
      " 1\n"
     ]
    },
    {
     "name": "stdout",
     "output_type": "stream",
     "text": [
      "1\n",
      "Enter element to be inserted: \n"
     ]
    },
    {
     "name": "stdin",
     "output_type": "stream",
     "text": [
      " 18\n"
     ]
    },
    {
     "name": "stdout",
     "output_type": "stream",
     "text": [
      "18\n",
      "['18', '14', '12', '16']\n",
      "Enter your choice: 0-exit 1-insert 2-delete\n"
     ]
    },
    {
     "name": "stdin",
     "output_type": "stream",
     "text": [
      " 2\n"
     ]
    },
    {
     "name": "stdout",
     "output_type": "stream",
     "text": [
      "2\n",
      "From where do you want to delete the element:1-front 2-rear\n"
     ]
    },
    {
     "name": "stdin",
     "output_type": "stream",
     "text": [
      " 1\n"
     ]
    },
    {
     "name": "stdout",
     "output_type": "stream",
     "text": [
      "1\n",
      "['14', '12', '16']\n",
      "Enter your choice: 0-exit 1-insert 2-delete\n"
     ]
    },
    {
     "name": "stdin",
     "output_type": "stream",
     "text": [
      " 2\n"
     ]
    },
    {
     "name": "stdout",
     "output_type": "stream",
     "text": [
      "2\n",
      "From where do you want to delete the element:1-front 2-rear\n"
     ]
    },
    {
     "name": "stdin",
     "output_type": "stream",
     "text": [
      " 2\n"
     ]
    },
    {
     "name": "stdout",
     "output_type": "stream",
     "text": [
      "2\n",
      "['14', '12']\n",
      "Enter your choice: 0-exit 1-insert 2-delete\n"
     ]
    }
   ],
   "source": [
    "class Dequeue:\n",
    "    def __init__(self):\n",
    "        self.a=[]\n",
    "    def enqueue(self,i,ch):\n",
    "        if (ch==1):\n",
    "            self.a.insert(0,i)\n",
    "            print(self.a)\n",
    "        else:\n",
    "            self.a.append(i)\n",
    "            print(self.a)\n",
    "    def delete(self,ch):\n",
    "        if (len(self.a)==0):\n",
    "            print(\"queue is empty\")\n",
    "        elif (ch==1):\n",
    "            self.a.pop(0)\n",
    "            print(self.a)\n",
    "        else:\n",
    "            self.a.pop(-1)\n",
    "            print(self.a)\n",
    "q=Dequeue()\n",
    "print(\"Enter your choice: 0-exit 1-insert 2-delete\")\n",
    "ch=int(input())\n",
    "print(ch)\n",
    "while ch!=0:\n",
    "    if (ch==1):\n",
    "        print(\"Where you want to insert the element:1-at the beginning 2-at the end\")\n",
    "        ch1=int(input())\n",
    "        print(ch)\n",
    "        print(\"Enter element to be inserted: \")\n",
    "        j=input()\n",
    "        print(j)\n",
    "        q.enqueue(j,ch1)\n",
    "    else:\n",
    "        print(\"From where do you want to delete the element:1-front 2-rear\")\n",
    "        ch2=int(input())\n",
    "        print(ch2)\n",
    "        q.delete(ch2)\n",
    "    print(\"Enter your choice: 0-exit 1-insert 2-delete\")    \n",
    "    ch=int(input())\n",
    "    print(ch)"
   ]
  },
  {
   "cell_type": "code",
   "execution_count": null,
   "metadata": {},
   "outputs": [],
   "source": []
  }
 ],
 "metadata": {
  "kernelspec": {
   "display_name": "Python 3",
   "language": "python",
   "name": "python3"
  },
  "language_info": {
   "codemirror_mode": {
    "name": "ipython",
    "version": 3
   },
   "file_extension": ".py",
   "mimetype": "text/x-python",
   "name": "python",
   "nbconvert_exporter": "python",
   "pygments_lexer": "ipython3",
   "version": "3.7.3"
  }
 },
 "nbformat": 4,
 "nbformat_minor": 4
}
