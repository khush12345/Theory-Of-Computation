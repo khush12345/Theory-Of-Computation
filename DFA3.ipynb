{
 "cells": [
  {
   "cell_type": "markdown",
   "metadata": {},
   "source": [
    "Program to implement DFA which accepts the language,L={mod(3)} over the alphabets {a,b}"
   ]
  },
  {
   "cell_type": "code",
   "execution_count": 1,
   "metadata": {},
   "outputs": [],
   "source": [
    "dfa={\n",
    "    'q0':{'a':'q1','b':'q1'},\n",
    "    'q1':{'a':'q2','b':'q2'},\n",
    "    'q2':{'a':'q0','b':'q0'}\n",
    "}\n",
    "def fun(s):\n",
    "    initial_state='q0'\n",
    "    final_state={'q0'}\n",
    "    cs=initial_state\n",
    "    for i in s:\n",
    "        cs=dfa[cs][i]\n",
    "    if cs in final_state:\n",
    "        print(\"Acceptable\")\n",
    "    else:\n",
    "        print(\"Unacceptable\")\n"
   ]
  },
  {
   "cell_type": "code",
   "execution_count": 2,
   "metadata": {},
   "outputs": [
    {
     "name": "stdout",
     "output_type": "stream",
     "text": [
      "Unacceptable\n"
     ]
    }
   ],
   "source": [
    "fun('ababa')"
   ]
  },
  {
   "cell_type": "code",
   "execution_count": 3,
   "metadata": {},
   "outputs": [
    {
     "name": "stdout",
     "output_type": "stream",
     "text": [
      "Acceptable\n"
     ]
    }
   ],
   "source": [
    "fun('')"
   ]
  },
  {
   "cell_type": "code",
   "execution_count": 4,
   "metadata": {},
   "outputs": [
    {
     "name": "stdout",
     "output_type": "stream",
     "text": [
      "Acceptable\n"
     ]
    }
   ],
   "source": [
    "fun('ababab')"
   ]
  },
  {
   "cell_type": "code",
   "execution_count": 5,
   "metadata": {},
   "outputs": [
    {
     "name": "stdout",
     "output_type": "stream",
     "text": [
      "Acceptable\n"
     ]
    }
   ],
   "source": [
    "fun('aaabbbababab')"
   ]
  }
 ],
 "metadata": {
  "kernelspec": {
   "display_name": "Python 3",
   "language": "python",
   "name": "python3"
  },
  "language_info": {
   "codemirror_mode": {
    "name": "ipython",
    "version": 3
   },
   "file_extension": ".py",
   "mimetype": "text/x-python",
   "name": "python",
   "nbconvert_exporter": "python",
   "pygments_lexer": "ipython3",
   "version": "3.7.3"
  }
 },
 "nbformat": 4,
 "nbformat_minor": 4
}
